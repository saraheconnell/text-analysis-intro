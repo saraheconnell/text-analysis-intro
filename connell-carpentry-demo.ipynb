{
 "cells": [
  {
   "cell_type": "markdown",
   "id": "e8633358",
   "metadata": {},
   "source": [
    "To do anything useful with data, we need to assign its value to a variable. In Python, we can assign a *value* to a *variable*, using the equals sign `=`. For example, to assign a value `10` to a variable `turtles_in_pond`, we would execute:"
   ]
  },
  {
   "cell_type": "code",
   "execution_count": null,
   "id": "73842a3f",
   "metadata": {
    "collapsed": true
   },
   "outputs": [],
   "source": [
    "turtles_in_pond = 10"
   ]
  }
 ],
 "metadata": {
  "kernelspec": {
   "display_name": "Python 3",
   "language": "python",
   "name": "python3"
  }
 },
 "nbformat": 4,
 "nbformat_minor": 5
}
