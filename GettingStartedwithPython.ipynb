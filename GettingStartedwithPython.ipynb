{
 "cells": [
  {
   "cell_type": "markdown",
   "metadata": {},
   "source": [
    "<img align=\"left\" src=\"https://ithaka-labs.s3.amazonaws.com/static-files/images/tdm/tdmdocs/CC_BY.png\"><br />\n",
    "\n",
    "Adapted by Sarah Connell from two notebooks created by [Nathan Kelber](http://nkelber.com) and Ted Lawless for [JSTOR Labs](https://labs.jstor.org/) under [Creative Commons CC BY License](https://creativecommons.org/licenses/by/4.0/)<br /> See [here](https://ithaka.github.io/tdm-notebooks/book/all-notebooks.html) for the original versions. Some contents were also adapted from a notebook created by [Jen Ferguson](https://library.northeastern.edu/about/library-staff-directory/jen-ferguson) for an earlier version of this workshop, taught at the Northeastern University Library Conference, summer 2020.<br />\n",
    "___"
   ]
  },
  {
   "cell_type": "markdown",
   "metadata": {},
   "source": [
    "# Jupyter basics\n",
    "\n",
    "What is this thing?\n",
    "\n",
    "**Jupyter combines interwoven text, data, and code, in a format that runs in a web browser.**\n",
    "* 'Jupyter' = JUlia, PYthon, and R - but it's really language-agnostic\n",
    "* Jupyter Notebooks let you run code immediately\n",
    "* Jupyter Notebooks can connect to a server that has the right environment/dependencies to execute the code successfully. In this case, we're using a server provided by ITHAKA, parent company to JSTOR/Portico."
   ]
  },
  {
   "cell_type": "markdown",
   "metadata": {},
   "source": [
    "## Cells\n",
    "\n",
    "Similar to the way an essay is composed of paragraphs, Jupyter notebooks are composed of [cells](https://docs.tdm-pilot.org/key-terms/#cell). A cell is like a container for a particular kind of content. There are essentially two kinds of content in Jupyter notebooks:\n",
    "\n",
    "1. [Markdown Cells](https://docs.tdm-pilot.org/key-terms/#markdown-cell)—These can contain text, images, video, and the other kinds of explanatory content you might find on a regular website. The cell you're reading right now is a markdown cell.\n",
    "2. [Code Cells](https://docs.tdm-pilot.org/key-terms/#code-cell)—These can contain code written in a variety of languages.\n",
    "\n",
    "How does this magic happen? There's a kernel, or computational engine, that runs the code inside your notebook. In this case our kernel is Python 3, as you can see in the top right corner of this page under the 'logout' button.\n",
    "\n",
    "Markdown allows you to have some basic formatting, like bolding and italicization; for more on markdown, see [this guide](https://www.markdownguide.org/cheat-sheet/).\n",
    "\n",
    "A **code cell** can be distinguished from a **markdown cell** by the fact that it contains a pair of brackets with a colon to its left. "
   ]
  },
  {
   "cell_type": "code",
   "execution_count": null,
   "metadata": {},
   "outputs": [],
   "source": [
    "# This is a code cell "
   ]
  },
  {
   "cell_type": "markdown",
   "metadata": {},
   "source": [
    "A markdown cell provides information, but a code cell can be executed to perform an action. The code cell above does not contain any executable content, only a text comment. We can tell the text in the code cell is a comment because it is prefixed by a ``#``. In Python, if a line is prefaced by a ``#`` then that line is a comment and will not be executed if the code is run. In a code cell, comments are bluish-green in color."
   ]
  },
  {
   "cell_type": "markdown",
   "metadata": {},
   "source": [
    "## Hello World: Your First Code\n",
    "\n",
    "It is traditional in programming education to begin with a program that prints ``Hello World``. In Python, this is a simple task using the ``print()`` [function](https://docs.tdm-pilot.org/key-terms/#function). A function is a block of code that performs some action—we will cover functions in more detail below. This function simply prints out whatever is inside the parentheses. We will **pass** the quotation \"Hello World\" to the ``print()`` function like so:\n",
    "\n",
    "```print(\"Hello World\")```\n",
    "\n",
    "The code cell below has the ``print()`` function set up to get you started, so all you need to do is write the text you want to print (in this case, \"Hello World\") inside the quotation marks—make sure not to delete these! \n",
    "\n",
    "To **execute** or **run** our code, we have a couple of options:\n",
    "\n",
    "### Option One\n",
    "\n",
    "![Image of play button](https://ithaka-labs.s3.amazonaws.com/static-files/images/tdm/tdmdocs/play_button.png) Click the code cell you wish to run and then push the \"Run\" button above. Depending on how your notebook is set up, you might not see the word \"Run\" but you should still see the same triangle symbol.\n",
    "### Option Two\n",
    "\n",
    "Click in the code cell you wish to run and press Ctrl + Enter (Windows) or Control + Return (OS X) on your keyboard.\n",
    "\n",
    "Don't worry, you can't break anything in this notebook! If you get stuck, you can always reset the notebook by resetting the kernel (the 'refresh' symbol in the toolbar)."
   ]
  },
  {
   "cell_type": "code",
   "execution_count": null,
   "metadata": {},
   "outputs": [],
   "source": [
    "#Fill in \"Hello World!\" inside of the quotation marks below and then run this block of code\n",
    "print(\"\")"
   ]
  },
  {
   "cell_type": "markdown",
   "metadata": {},
   "source": [
    "After your code runs, you'll receive any output and a number will appear in the pair of brackets to the left of the code cell to show the order the cell was run. If your code is complicated or takes some time to execute, an asterisk will be displayed in the pair of brackets while the code executes. \n",
    "\n",
    "Execute the code cell below which:\n",
    "\n",
    "1. Prints \"Waiting 5 seconds...\"\n",
    "2. Waits 5 seconds\n",
    "3. Prints \"Done\"\n",
    "\n",
    "As the program is running, watch the pair of brackets and you will see the code is running `[*]:`."
   ]
  },
  {
   "cell_type": "code",
   "execution_count": null,
   "metadata": {},
   "outputs": [],
   "source": [
    "print('Waiting 5 seconds...')\n",
    "import time\n",
    "time.sleep(5)\n",
    "print('Done')"
   ]
  },
  {
   "cell_type": "markdown",
   "metadata": {},
   "source": [
    "Notice that each time you run a code cell, the number increases in the pair of brackets. This keeps track of the order in which cells were run. Technically, you can run the cells in any order, but it is usually a good idea to run them sequentially from top to bottom, to avoid errors."
   ]
  },
  {
   "cell_type": "markdown",
   "metadata": {},
   "source": [
    "# Python basics\n",
    "\n",
    "Python is a computer programming language that is widely used in data science and the digital humanities. We'll cover a few Python basics here, giving you the tools to understand some core concepts and run several pre-constructed analyses. If you'd like to learn more, the Constellate team has published [lessons](https://constellate.org/docs/) running from beginner to intermediate, and there are many additional resources online for learning Python, such as [Python for Everybody](https://www.py4e.com/)."
   ]
  },
  {
   "cell_type": "markdown",
   "metadata": {},
   "source": [
    "## Expressions and Operators\n",
    "\n",
    "One very simple form of Python programming is an [expression](https://docs.tdm-pilot.org/key-terms/#expression) using an [operator](https://docs.tdm-pilot.org/key-terms/#operator). For example, you might have a simple mathematical statement like:\n",
    "\n",
    "> 1 + 3\n",
    "\n",
    "The [operator](https://docs.tdm-pilot.org/key-terms/#operator) in this case is `+`, sometimes called \"plus\" or \"addition\". This particular **[expression](https://docs.tdm-pilot.org/key-terms/#expression)** is a combination of two **values** (1 and 3) and an **operator** (`+`). In Python, **expressions** are combinations of values, operators, functions, and variables (more on these last two soon!). \n",
    "\n",
    "In the code block below, try writing an expression that uses the addition operator."
   ]
  },
  {
   "cell_type": "code",
   "execution_count": null,
   "metadata": {},
   "outputs": [],
   "source": [
    "# Type an expression in this code block, adding your favorite number to the year you were born. \n",
    "#Then, run the code block."
   ]
  },
  {
   "cell_type": "markdown",
   "metadata": {},
   "source": [
    "You can also do subtraction, multiplication, and division, among other mathematical operations. To multiply in Python, you use an asterisk (\\*) and to divide, you use a forward slash (/). \n",
    "\n",
    "You are probably not going to replace the calculator on your phone with Python! But, this example is showing you something about how Python works: here, you are creating an **expression** by combining **values** with an **operator** and running the code to produce **output**. "
   ]
  },
  {
   "cell_type": "markdown",
   "metadata": {},
   "source": [
    "## Data Types (Integers, Floats, and Strings)\n",
    "\n",
    "In the above examples, our expressions evaluated to single numerical value. Numerical values come in two basic forms:\n",
    "\n",
    "* [integer](https://docs.tdm-pilot.org/key-terms/#integer)\n",
    "* [float](https://docs.tdm-pilot.org/key-terms/#float) (or floating-point number)\n",
    "\n",
    "An [integer](https://docs.tdm-pilot.org/key-terms/#integer), what we sometimes call a \"whole number,\" is a number without a decimal point that can be positive or negative. When a value uses a decimal, it is called a [float](https://docs.tdm-pilot.org/key-terms/#float) or floating-point number. Two numbers that are mathematically equivalent could be in two different data types. For example, mathematically 5 is equal to 5.0, yet the former is an integer while the latter is a float. \n",
    "\n",
    "Python can also help us manipulate text. A snippet of text in Python is called a [string](https://docs.tdm-pilot.org/key-terms/#string). A string can be written with single or double quotes. A string can use letters, spaces, line breaks, and numbers. So 5 is an integer and 5.0 is a float, but '5' and '5.0' are strings. A string can also be blank, such as ''. \n",
    "\n",
    "|Familiar Name | Programming name | Examples |\n",
    "|---|---|---|\n",
    "|Whole number|integer| -3, 0, 2, 534|\n",
    "|Decimal|float | 6.3, -19.23, 5.0, 0.01|\n",
    "|Text|string| 'Hello world', '1700 butterflies', '', '1823'|\n",
    "\n",
    "The distinction between each of these data types may seem unimportant, but Python treats each one differently. For example, we can ask Python whether an integer is equal to a float, but we cannot ask whether a string is equal to an integer or a float.\n",
    "\n",
    "To evaluate whether two values are equal, we can use two equals signs between them. The expression will evaluate to either `True` or `False`."
   ]
  },
  {
   "cell_type": "code",
   "execution_count": null,
   "metadata": {},
   "outputs": [],
   "source": [
    "# Run this code cell to determine whether the values are equal\n",
    "42 == 42.0"
   ]
  },
  {
   "cell_type": "code",
   "execution_count": null,
   "metadata": {},
   "outputs": [],
   "source": [
    "# Run this code cell to compare an integer with a string\n",
    "15 == 'fifteen'"
   ]
  },
  {
   "cell_type": "code",
   "execution_count": null,
   "metadata": {},
   "outputs": [],
   "source": [
    "# Run this code cell to compare an integer with a string\n",
    "15 == '15'"
   ]
  },
  {
   "cell_type": "markdown",
   "metadata": {},
   "source": [
    "When we use the addition operator on integers or floats, they are added to create a sum. When we use the addition operator on strings, they are combined into a single, longer string. This is called [concatenation](https://docs.tdm-pilot.org/key-terms/#concatenation). "
   ]
  },
  {
   "cell_type": "code",
   "execution_count": null,
   "metadata": {},
   "outputs": [],
   "source": [
    "# Combine the strings 'Hello' and 'World'\n",
    "'Hello ' + 'World'"
   ]
  },
  {
   "cell_type": "markdown",
   "metadata": {},
   "source": [
    "Notice that the strings are combined exactly as they are written. There is no space between the strings. If we want to include a space, we need to add the space to the end of 'Hello' or the beginning of 'World'. "
   ]
  },
  {
   "cell_type": "markdown",
   "metadata": {},
   "source": [
    "When we use the addition operator, the values must be all numbers or all strings. Combining them will create an error."
   ]
  },
  {
   "cell_type": "code",
   "execution_count": null,
   "metadata": {},
   "outputs": [],
   "source": [
    "# Try adding a string to an integer\n",
    "'55' + 23"
   ]
  },
  {
   "cell_type": "markdown",
   "metadata": {},
   "source": [
    "Here, we receive an error because Python doesn't know how to join a string to an integer. Putting this another way, Python is unsure if we want:\n",
    "\n",
    ">'55' + 23 \n",
    "\n",
    "to become\n",
    ">'5523'\n",
    "\n",
    "or \n",
    ">78"
   ]
  },
  {
   "cell_type": "markdown",
   "metadata": {},
   "source": [
    "Because these data types operate differently, it is very useful to be able to check which type you're working with. You can do this with the `type()` function. Try running the three code blocks below to check the types for 15, 15.0 and \"15\"."
   ]
  },
  {
   "cell_type": "code",
   "execution_count": null,
   "metadata": {},
   "outputs": [],
   "source": [
    "#Check the type for 15\n",
    "type(15)"
   ]
  },
  {
   "cell_type": "code",
   "execution_count": null,
   "metadata": {},
   "outputs": [],
   "source": [
    "#Check the type for 15.0\n",
    "type(15.0)"
   ]
  },
  {
   "cell_type": "code",
   "execution_count": null,
   "metadata": {},
   "outputs": [],
   "source": [
    "#Check the type for \"15\"\n",
    "type(\"15\")"
   ]
  },
  {
   "cell_type": "markdown",
   "metadata": {},
   "source": [
    "## Variables\n",
    "We noted above that expressions are combinations of values, operators, and variables, and said that we'd be returning to variables. A [variable](https://docs.tdm-pilot.org/key-terms/#variable) is like a container that stores information. There are many kinds of information that can be stored in a variable, including the data types we have already discussed (integers, floats, and strings). We create (or **initialize**) a variable with an [assignment statement](https://docs.tdm-pilot.org/key-terms/#assignment-statement). The assignment statement gives the variable an initial value.\n"
   ]
  },
  {
   "cell_type": "code",
   "execution_count": null,
   "metadata": {},
   "outputs": [],
   "source": [
    "# Initialize an integer variable (note that this code doesn't produce any output; it just establishes the variable)\n",
    "new_integer_variable = 6"
   ]
  },
  {
   "cell_type": "code",
   "execution_count": null,
   "metadata": {},
   "outputs": [],
   "source": [
    "new_integer_variable"
   ]
  },
  {
   "cell_type": "code",
   "execution_count": null,
   "metadata": {},
   "outputs": [],
   "source": [
    "# Add 22 to our new variable\n",
    "new_integer_variable + 22"
   ]
  },
  {
   "cell_type": "markdown",
   "metadata": {},
   "source": [
    "The value of a variable can be overwritten with a new value. You can test this by changing the value in the first code block above, and then re-running everything."
   ]
  },
  {
   "cell_type": "markdown",
   "metadata": {},
   "source": [
    "We can also overwrite the value of a variable using its original value. In the two cells below, we establish a variable and then add 2 to that variable."
   ]
  },
  {
   "cell_type": "code",
   "execution_count": null,
   "metadata": {},
   "outputs": [],
   "source": [
    "# Creating a variable \"cats_in_house\"\n",
    "cats_in_house = 1\n",
    "cats_in_house"
   ]
  },
  {
   "cell_type": "code",
   "execution_count": null,
   "metadata": {},
   "outputs": [],
   "source": [
    "# Adding 2 to our initial variable\n",
    "cats_in_house = cats_in_house + 2\n",
    "cats_in_house"
   ]
  },
  {
   "cell_type": "markdown",
   "metadata": {},
   "source": [
    "Whenever you create a new variable, you can always confirm what data type it is with the `type()` function. For example:"
   ]
  },
  {
   "cell_type": "code",
   "execution_count": null,
   "metadata": {},
   "outputs": [],
   "source": [
    "#Checking the type of the variable cats_in_house\n",
    "type(cats_in_house)"
   ]
  },
  {
   "cell_type": "markdown",
   "metadata": {},
   "source": [
    "You can create a variable with almost any name, but there are a few guidelines that are recommended. First, variable names should be clear and descriptive. \n",
    "\n",
    "For example, if we create a variable that stores the day of the month, it is helpful to give it a name that makes the value stored inside it clear like `day_of_month`. From the computer's perspective, we could call the variable almost anything (`potato`, `bananafish`, `flat_tire`). As long as we are consistent, the code will execute the same. When it comes time to read, modify, and understand the code, however, it will be confusing to you and others. Consider this simple program that lets us change the `days` variable to compute the number of seconds in that many days. "
   ]
  },
  {
   "cell_type": "code",
   "execution_count": null,
   "metadata": {},
   "outputs": [],
   "source": [
    "# Compute the number of seconds in 3 days\n",
    "days = 3\n",
    "hours_in_day = 24\n",
    "minutes_in_hour = 60\n",
    "seconds_in_minute = 60\n",
    "\n",
    "days * hours_in_day * minutes_in_hour * seconds_in_minute"
   ]
  },
  {
   "cell_type": "markdown",
   "metadata": {},
   "source": [
    "We could write a program that is logically the same, but uses confusing variable names."
   ]
  },
  {
   "cell_type": "code",
   "execution_count": null,
   "metadata": {},
   "outputs": [],
   "source": [
    "hotdogs = 60\n",
    "sasquatch = 24\n",
    "example = 3\n",
    "answer = 60\n",
    "\n",
    "answer * sasquatch * example * hotdogs"
   ]
  },
  {
   "cell_type": "markdown",
   "metadata": {},
   "source": [
    "This code gives us the same answer as the first example, but it is confusing. Not only does this code use variable names that make no sense, it also does not include any comments to explain what the code does. It is not clear that we would change `example` to set a different number of days. It is not even clear what the purpose of the code is. As code gets longer and more complex, having clear variable names and explanatory comments is very important. "
   ]
  },
  {
   "cell_type": "markdown",
   "metadata": {},
   "source": [
    "## Variable Naming Rules\n",
    "\n",
    "In addition to being descriptive, variable names must follow 3 basic rules:\n",
    "\n",
    "1. Must be one word (no spaces allowed)\n",
    "2. Only letters, numbers and the underscore character (\\_) are allowed\n",
    "3. Cannot begin with a number"
   ]
  },
  {
   "cell_type": "code",
   "execution_count": null,
   "metadata": {},
   "outputs": [],
   "source": [
    "# Which of these variable names are acceptable? \n",
    "# Comment out the variables that are not allowed in Python and run this cell to check if the variable assignment works. \n",
    "# If you get an error, the variable name is not allowed in Python.\n",
    "\n",
    "$variable = 1\n",
    "a variable = 2\n",
    "a_variable = 3\n",
    "4variable = 4\n",
    "variable5 = 5\n",
    "variable-6 = 6\n",
    "variAble = 7\n",
    "Avariable = 8\n"
   ]
  },
  {
   "cell_type": "markdown",
   "metadata": {},
   "source": [
    "## Functions\n",
    "\n",
    "Many different kinds of programs often need to do very similar operations. Instead of writing the same code over and over again, you can use a [function](https://docs.tdm-pilot.org/key-terms/#function). Essentially, a function is a small snippet of code that can be quickly referenced and reused, and that does some specific task. \n",
    "\n",
    "One of the most common functions used in Python is the `print()` function, which simply prints a string. Replace the text inside of the quotation marks below with whatever words you would like to print. "
   ]
  },
  {
   "cell_type": "code",
   "execution_count": null,
   "metadata": {},
   "outputs": [],
   "source": [
    "# A print function that prints whatever you tell it to\n",
    "print('Your words here!')"
   ]
  },
  {
   "cell_type": "markdown",
   "metadata": {},
   "source": [
    "We could also define a variable with our chosen input string and then pass that variable into the `print()` function. It is common for functions to take an input, called an [argument](https://docs.tdm-pilot.org/key-terms/#argument), that is placed inside the parentheses. "
   ]
  },
  {
   "cell_type": "code",
   "execution_count": null,
   "metadata": {},
   "outputs": [],
   "source": [
    "# Define a string and then print it\n",
    "our_string = 'Your words here!'\n",
    "print(our_string)"
   ]
  },
  {
   "cell_type": "markdown",
   "metadata": {},
   "source": [
    "Python 'out-of-the-box' comes with many different useful functions, but for more specialized operations, you will likely need to import **modules** with additional functions. In our next session, we will import several functions that will allow us to perform a range of analyses with our datasets."
   ]
  },
  {
   "cell_type": "markdown",
   "metadata": {},
   "source": [
    "# Next steps\n",
    "\n",
    "Those are some of the core concepts of Python. Next, we'll show you how to use Python to perform text analysis and identify significant terms from a sample dataset. You can also try further exploration with the [lessons](https://constellate.org/docs/) published by Constellate."
   ]
  }
 ],
 "metadata": {
  "kernelspec": {
   "display_name": "Python 3",
   "language": "python",
   "name": "python3"
  },
  "language_info": {
   "codemirror_mode": {
    "name": "ipython",
    "version": 3
   },
   "file_extension": ".py",
   "mimetype": "text/x-python",
   "name": "python",
   "nbconvert_exporter": "python",
   "pygments_lexer": "ipython3",
   "version": "3.8.8"
  },
  "toc": {
   "base_numbering": 1,
   "nav_menu": {},
   "number_sections": true,
   "sideBar": true,
   "skip_h1_title": false,
   "title_cell": "Table of Contents",
   "title_sidebar": "Contents",
   "toc_cell": false,
   "toc_position": {},
   "toc_section_display": true,
   "toc_window_display": true
  }
 },
 "nbformat": 4,
 "nbformat_minor": 4
}
